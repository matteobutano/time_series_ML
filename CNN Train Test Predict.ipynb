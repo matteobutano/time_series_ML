{
 "cells": [
  {
   "cell_type": "code",
   "execution_count": 1,
   "id": "8bef29cd",
   "metadata": {},
   "outputs": [],
   "source": [
    "import pandas as pd\n",
    "import numpy as np\n",
    "import time\n",
    "import matplotlib.pyplot as plt\n",
    "import requests\n",
    "from sklearn.preprocessing import StandardScaler\n",
    "from tensorflow import keras\n",
    "from tensorflow.keras.models import Sequential\n",
    "from tensorflow.keras.layers import Conv2D, MaxPooling2D, Dense, Dropout, Flatten, Input, BatchNormalization, Activation\n",
    "from tensorflow.keras.callbacks import EarlyStopping\n",
    "from tensorflow.keras.regularizers import l2"
   ]
  },
  {
   "cell_type": "markdown",
   "id": "19f09b4f",
   "metadata": {},
   "source": [
    "First, we import the input and output datasets."
   ]
  },
  {
   "cell_type": "code",
   "execution_count": 2,
   "id": "4a86f0f6",
   "metadata": {},
   "outputs": [],
   "source": [
    "in_data_1 = pd.read_csv('https://drive.google.com/uc?id=19xQWXaqtF685BP9-awsRgNv77udv0-sx')\n",
    "in_data_2 = pd.read_csv('https://drive.google.com/uc?id=19vESYitHjVR2nEiMgLOiEVlIr4LOTGX4')\n",
    "in_data_3 = pd.read_csv('https://drive.google.com/uc?id=1FJACauRxbNuilgXm-eg7s-K4HM1sAoeA')\n",
    "in_data = pd.concat([in_data_1,in_data_2,in_data_3],axis = 0,ignore_index = True)\n",
    "out_data = pd.read_csv('https://drive.google.com/uc?id=19i5CWvm9-wNXVwF-wiBODty0mPdupyLQ')['reod']"
   ]
  },
  {
   "cell_type": "markdown",
   "id": "f0a45372",
   "metadata": {},
   "source": [
    "The next cell specifies the training, test and prediction datasets chosen randomly. "
   ]
  },
  {
   "cell_type": "code",
   "execution_count": 3,
   "id": "7484c504",
   "metadata": {},
   "outputs": [],
   "source": [
    "train_fraction = 0.9\n",
    "test_fraction = 1 - train_fraction\n",
    "\n",
    "#Randomly choose elements for each sub-dataset\n",
    "\n",
    "train_index = np.random.choice(range(in_data.shape[0]), size = int(train_fraction*in_data.shape[0]),replace = False)\n",
    "test_index = np.random.choice(np.delete(range(in_data.shape[0]),train_index), size = int(test_fraction*in_data.shape[0]),replace = False)"
   ]
  },
  {
   "cell_type": "markdown",
   "id": "c6261988",
   "metadata": {},
   "source": [
    "Here we reshape the dataset to be fed the DNN"
   ]
  },
  {
   "cell_type": "code",
   "execution_count": 4,
   "id": "74518115",
   "metadata": {},
   "outputs": [
    {
     "name": "stdout",
     "output_type": "stream",
     "text": [
      "X_train shape: (758969, 53, 1, 1)\n",
      "Y_train shape: (758969, 3)\n",
      "X_test shape: (84329, 53, 1, 1)\n",
      "Y_test shape: (84329, 3)\n"
     ]
    }
   ],
   "source": [
    "X_train = in_data.iloc[train_index].values\n",
    "Y_train = out_data[train_index].values\n",
    "X_test = in_data.iloc[test_index].values\n",
    "Y_test = out_data[test_index].values\n",
    "\n",
    "# Rescale Data\n",
    "scaler = StandardScaler()\n",
    "X_train = scaler.fit_transform(X_train)\n",
    "X_test = scaler.transform(X_test)\n",
    "X_train = X_train.reshape(X_train.shape[0], X_train.shape[1], 1, 1)\n",
    "X_test = X_test.reshape(X_test.shape[0], X_test.shape[1], 1, 1)\n",
    "\n",
    "# Prepare Data to be fed the DNN\n",
    "num_classes = 3\n",
    "Y_train = keras.utils.to_categorical(Y_train, num_classes)\n",
    "Y_test = keras.utils.to_categorical(Y_test, num_classes)\n",
    "\n",
    "print('X_train shape:', X_train.shape)\n",
    "print('Y_train shape:', Y_train.shape)\n",
    "print('X_test shape:', X_test.shape)\n",
    "print('Y_test shape:', Y_test.shape)"
   ]
  },
  {
   "cell_type": "markdown",
   "id": "73b63d25",
   "metadata": {},
   "source": [
    "Let us create an instance of Keras' `Sequential()` class, called `model`. As the name suggests, this class allows us to build DNNs layer by layer. We use the `add()` method to attach layers to our model. For the purposes of our introductory example, it suffices to focus on `Dense` layers for simplicity. Every `Dense()` layer accepts as its first required argument an integer which specifies the number of neurons. The type of activation function for the layer is defined using the `activation` optional argument, the input of which is the name of the activation function in `string` format. Examples include `relu`, `tanh`, `elu`, `sigmoid`, `softmax`. \n",
    "\n",
    "In order for our DNN to work properly, we have to make sure that the numbers of input and output neurons for each layer match. Therefore, we specify the shape of the input in the first layer of the model explicitly using the optional argument `input_shape=(N_features,)`. The sequential construction of the model then allows Keras to infer the correct input/output dimensions of all hidden layers automatically. Hence, we only need to specify the size of the softmax output layer to match the number of categories."
   ]
  },
  {
   "cell_type": "code",
   "execution_count": 5,
   "id": "54b553fd",
   "metadata": {},
   "outputs": [
    {
     "name": "stdout",
     "output_type": "stream",
     "text": [
      "Model architecture created successfully!\n"
     ]
    }
   ],
   "source": [
    "# training parameters\n",
    "batch_size = 128\n",
    "epochs = 100\n",
    "\n",
    "def create_CNN():\n",
    "    \n",
    "    model = Sequential()\n",
    "    model.add(Input(shape=(53, 1, 1)))\n",
    "    \n",
    "    model.add(Conv2D(128, (5, 1),activation='relu', padding='same'))\n",
    "    model.add(BatchNormalization())\n",
    "    model.add(MaxPooling2D((2, 1)))\n",
    "    model.add(Dropout(0.3))\n",
    "    \n",
    "    model.add(Conv2D(256, (5, 1),activation='relu', padding='same'))\n",
    "    model.add(BatchNormalization())\n",
    "    model.add(MaxPooling2D((2, 1)))\n",
    "    model.add(Dropout(0.3))\n",
    "    \n",
    "    model.add(Flatten())\n",
    "    \n",
    "    model.add(Dense(128, activation='relu', kernel_regularizer=l2(0.001)))\n",
    "    model.add(BatchNormalization())\n",
    "    model.add(Dropout(0.3))\n",
    "    \n",
    "    model.add(Dense(256, activation='relu', kernel_regularizer=l2(0.001)))\n",
    "    model.add(BatchNormalization())\n",
    "    model.add(Dropout(0.3))\n",
    "    \n",
    "    \n",
    "    model.add(Dense(num_classes, activation='softmax'))\n",
    "    \n",
    "    return model\n",
    "\n",
    "print('Model architecture created successfully!')"
   ]
  },
  {
   "cell_type": "markdown",
   "id": "0e1a4bf1",
   "metadata": {},
   "source": [
    "Next, we choose the loss function according to which to train the DNN. For classification problems, this is the cross entropy, and since the output data was cast in categorical form, we choose the `categorical_crossentropy` defined in Keras' `losses` module. Depending on the problem of interest one can pick any other suitable loss function. To optimize the weights of the net, we choose SGD. This algorithm is already available to use under Keras' `optimizers` module, but we could use `Adam()` or any other built-in one as well. The parameters for the optimizer, such as `lr` (learning rate) or `momentum` are passed using the corresponding optional arguments of the `SGD()` function. All available arguments can be found in Keras' online documentation at [https://keras.io/](https://keras.io/). While the loss function and the optimizer are essential for the training procedure, to test the performance of the model one may want to look at a particular `metric` of performance. For instance, in categorical tasks one typically looks at their `accuracy`, which is defined as the percentage of correctly classified data points. To complete the definition of our model, we use the `compile()` method, with optional arguments for the `optimizer`, `loss`, and the validation `metric` as follows:"
   ]
  },
  {
   "cell_type": "code",
   "execution_count": 6,
   "id": "7bb6154e",
   "metadata": {},
   "outputs": [
    {
     "name": "stdout",
     "output_type": "stream",
     "text": [
      "Model compiled successfully and ready to be trained.\n"
     ]
    }
   ],
   "source": [
    "# add early stopping callback\n",
    "early_stop = EarlyStopping(monitor='val_loss', patience=5)\n",
    "\n",
    "# use RMSprop optimizer\n",
    "optimizer = keras.optimizers.SGD(learning_rate=0.005)\n",
    "\n",
    "def compile_model(optimizer=optimizer):\n",
    "    # create the mode\n",
    "    model=create_CNN()\n",
    "    # compile the model\n",
    "    model.compile(loss=keras.losses.categorical_crossentropy, \n",
    "                  optimizer=optimizer, \n",
    "                  metrics=['accuracy'])\n",
    "    return model\n",
    "\n",
    "print('Model compiled successfully and ready to be trained.')"
   ]
  },
  {
   "cell_type": "markdown",
   "id": "b42d73d3",
   "metadata": {},
   "source": [
    "We train our DNN in minibatches, the advantages of which were explained in Sec. IV. Shuffling the training data during training improves stability of the model. Thus, we train over a number of training epochs. \n",
    "Training the DNN is a one-liner using the `fit()` method of the `Sequential` class. The first two required arguments are the training input and output data. As optional arguments, we specify the mini-`batch_size`, the number of training `epochs`, and the test or `validation_data`. To monitor the training procedure for every epoch, we set `verbose=True`. "
   ]
  },
  {
   "cell_type": "code",
   "execution_count": 7,
   "id": "6be1e6f2",
   "metadata": {},
   "outputs": [
    {
     "name": "stdout",
     "output_type": "stream",
     "text": [
      "Epoch 1/100\n",
      "5930/5930 [==============================] - 50s 8ms/step - loss: 1.4645 - accuracy: 0.4421 - val_loss: 1.3996 - val_accuracy: 0.4551\n",
      "Epoch 2/100\n",
      "5930/5930 [==============================] - 46s 8ms/step - loss: 1.3758 - accuracy: 0.4549 - val_loss: 1.3565 - val_accuracy: 0.4552\n",
      "Epoch 3/100\n",
      "5930/5930 [==============================] - 46s 8ms/step - loss: 1.3351 - accuracy: 0.4567 - val_loss: 1.3175 - val_accuracy: 0.4592\n",
      "Epoch 4/100\n",
      "5930/5930 [==============================] - 46s 8ms/step - loss: 1.2990 - accuracy: 0.4585 - val_loss: 1.2832 - val_accuracy: 0.4583\n",
      "Epoch 5/100\n",
      "5930/5930 [==============================] - 46s 8ms/step - loss: 1.2670 - accuracy: 0.4599 - val_loss: 1.2558 - val_accuracy: 0.4599\n",
      "Epoch 6/100\n",
      "5930/5930 [==============================] - 46s 8ms/step - loss: 1.2388 - accuracy: 0.4607 - val_loss: 1.2261 - val_accuracy: 0.4650\n",
      "Epoch 7/100\n",
      "5930/5930 [==============================] - 46s 8ms/step - loss: 1.2139 - accuracy: 0.4615 - val_loss: 1.2021 - val_accuracy: 0.4655\n",
      "Epoch 8/100\n",
      "5930/5930 [==============================] - 46s 8ms/step - loss: 1.1914 - accuracy: 0.4628 - val_loss: 1.1820 - val_accuracy: 0.4622\n",
      "Epoch 9/100\n",
      "5930/5930 [==============================] - 47s 8ms/step - loss: 1.1715 - accuracy: 0.4640 - val_loss: 1.1616 - val_accuracy: 0.4670\n",
      "Epoch 10/100\n",
      "5930/5930 [==============================] - 46s 8ms/step - loss: 1.1540 - accuracy: 0.4650 - val_loss: 1.1437 - val_accuracy: 0.4681\n",
      "Epoch 11/100\n",
      "5930/5930 [==============================] - 47s 8ms/step - loss: 1.1378 - accuracy: 0.4663 - val_loss: 1.1311 - val_accuracy: 0.4688\n",
      "Epoch 12/100\n",
      "5930/5930 [==============================] - 47s 8ms/step - loss: 1.1238 - accuracy: 0.4675 - val_loss: 1.1143 - val_accuracy: 0.4699\n",
      "Epoch 13/100\n",
      "5930/5930 [==============================] - 47s 8ms/step - loss: 1.1111 - accuracy: 0.4681 - val_loss: 1.1032 - val_accuracy: 0.4697\n",
      "Epoch 14/100\n",
      "5930/5930 [==============================] - 47s 8ms/step - loss: 1.0999 - accuracy: 0.4689 - val_loss: 1.0914 - val_accuracy: 0.4712\n",
      "Epoch 15/100\n",
      "5930/5930 [==============================] - 47s 8ms/step - loss: 1.0901 - accuracy: 0.4700 - val_loss: 1.0815 - val_accuracy: 0.4738\n",
      "Epoch 16/100\n",
      "5930/5930 [==============================] - 47s 8ms/step - loss: 1.0808 - accuracy: 0.4705 - val_loss: 1.0731 - val_accuracy: 0.4736\n",
      "Epoch 17/100\n",
      "5930/5930 [==============================] - 47s 8ms/step - loss: 1.0725 - accuracy: 0.4712 - val_loss: 1.0637 - val_accuracy: 0.4747\n",
      "Epoch 18/100\n",
      "5930/5930 [==============================] - 47s 8ms/step - loss: 1.0651 - accuracy: 0.4729 - val_loss: 1.0583 - val_accuracy: 0.4749\n",
      "Epoch 19/100\n",
      "5930/5930 [==============================] - 47s 8ms/step - loss: 1.0585 - accuracy: 0.4738 - val_loss: 1.0520 - val_accuracy: 0.4751\n",
      "Epoch 20/100\n",
      "5930/5930 [==============================] - 47s 8ms/step - loss: 1.0527 - accuracy: 0.4738 - val_loss: 1.0464 - val_accuracy: 0.4765\n",
      "Epoch 21/100\n",
      "5930/5930 [==============================] - 47s 8ms/step - loss: 1.0473 - accuracy: 0.4753 - val_loss: 1.0409 - val_accuracy: 0.4779\n",
      "Epoch 22/100\n",
      "5930/5930 [==============================] - 47s 8ms/step - loss: 1.0424 - accuracy: 0.4760 - val_loss: 1.0377 - val_accuracy: 0.4770\n",
      "Epoch 23/100\n",
      "5930/5930 [==============================] - 47s 8ms/step - loss: 1.0383 - accuracy: 0.4767 - val_loss: 1.0369 - val_accuracy: 0.4788\n",
      "Epoch 24/100\n",
      "5930/5930 [==============================] - 47s 8ms/step - loss: 1.0342 - accuracy: 0.4779 - val_loss: 1.0295 - val_accuracy: 0.4798\n",
      "Epoch 25/100\n",
      "5930/5930 [==============================] - 47s 8ms/step - loss: 1.0308 - accuracy: 0.4784 - val_loss: 1.0276 - val_accuracy: 0.4807\n",
      "Epoch 26/100\n",
      "5930/5930 [==============================] - 47s 8ms/step - loss: 1.0278 - accuracy: 0.4794 - val_loss: 1.0254 - val_accuracy: 0.4800\n",
      "Epoch 27/100\n",
      "5930/5930 [==============================] - 47s 8ms/step - loss: 1.0246 - accuracy: 0.4806 - val_loss: 1.0196 - val_accuracy: 0.4821\n",
      "Epoch 28/100\n",
      "5930/5930 [==============================] - 47s 8ms/step - loss: 1.0220 - accuracy: 0.4811 - val_loss: 1.0213 - val_accuracy: 0.4830\n",
      "Epoch 29/100\n",
      "5930/5930 [==============================] - 47s 8ms/step - loss: 1.0199 - accuracy: 0.4813 - val_loss: 1.0185 - val_accuracy: 0.4835\n",
      "Epoch 30/100\n",
      "5930/5930 [==============================] - 47s 8ms/step - loss: 1.0176 - accuracy: 0.4824 - val_loss: 1.0185 - val_accuracy: 0.4833\n",
      "Epoch 31/100\n",
      "5930/5930 [==============================] - 47s 8ms/step - loss: 1.0160 - accuracy: 0.4833 - val_loss: 1.0211 - val_accuracy: 0.4832\n",
      "Epoch 32/100\n",
      "5930/5930 [==============================] - 47s 8ms/step - loss: 1.0142 - accuracy: 0.4842 - val_loss: 1.0117 - val_accuracy: 0.4840\n",
      "Epoch 33/100\n",
      "5930/5930 [==============================] - 47s 8ms/step - loss: 1.0124 - accuracy: 0.4846 - val_loss: 1.0159 - val_accuracy: 0.4834\n",
      "Epoch 34/100\n",
      "5930/5930 [==============================] - 47s 8ms/step - loss: 1.0113 - accuracy: 0.4854 - val_loss: 1.0132 - val_accuracy: 0.4852\n",
      "Epoch 35/100\n",
      "5930/5930 [==============================] - 47s 8ms/step - loss: 1.0100 - accuracy: 0.4858 - val_loss: 1.0076 - val_accuracy: 0.4844\n",
      "Epoch 36/100\n",
      "5930/5930 [==============================] - 47s 8ms/step - loss: 1.0093 - accuracy: 0.4863 - val_loss: 1.0117 - val_accuracy: 0.4871\n",
      "Epoch 37/100\n",
      "5930/5930 [==============================] - 47s 8ms/step - loss: 1.0081 - accuracy: 0.4868 - val_loss: 1.0164 - val_accuracy: 0.4853\n",
      "Epoch 38/100\n",
      "5930/5930 [==============================] - 47s 8ms/step - loss: 1.0071 - accuracy: 0.4880 - val_loss: 1.0107 - val_accuracy: 0.4879\n",
      "Epoch 39/100\n",
      "5930/5930 [==============================] - 47s 8ms/step - loss: 1.0061 - accuracy: 0.4882 - val_loss: 1.0088 - val_accuracy: 0.4878\n",
      "Epoch 40/100\n",
      "5930/5930 [==============================] - 47s 8ms/step - loss: 1.0053 - accuracy: 0.4890 - val_loss: 1.0086 - val_accuracy: 0.4880\n"
     ]
    }
   ],
   "source": [
    "# create the deep neural net\n",
    "model_CNN=compile_model()\n",
    "\n",
    "# train CNN and store training info in history\n",
    "history=model_CNN.fit(X_train, Y_train,\n",
    "          batch_size=batch_size,\n",
    "          epochs=epochs,\n",
    "          verbose=1,\n",
    "          validation_data=(X_test, Y_test),callbacks=[early_stop])"
   ]
  },
  {
   "cell_type": "markdown",
   "id": "e96a7719",
   "metadata": {},
   "source": [
    "Next, we evaluate the model and read of the loss on the test data, and its accuracy using the `evaluate()` method."
   ]
  },
  {
   "cell_type": "code",
   "execution_count": 8,
   "id": "4557013a",
   "metadata": {
    "scrolled": true
   },
   "outputs": [
    {
     "name": "stdout",
     "output_type": "stream",
     "text": [
      "2636/2636 [==============================] - 8s 3ms/step - loss: 1.0086 - accuracy: 0.4880\n",
      "\n",
      "Test loss: 1.0085830688476562\n",
      "Test accuracy: 0.48802903294563293\n"
     ]
    }
   ],
   "source": [
    "# evaluate model\n",
    "score = model_CNN.evaluate(X_test, Y_test, verbose=1)\n",
    "\n",
    "# print performance\n",
    "print()\n",
    "print('Test loss:', score[0])\n",
    "print('Test accuracy:', score[1])"
   ]
  },
  {
   "cell_type": "code",
   "execution_count": 9,
   "id": "0f8709cb",
   "metadata": {},
   "outputs": [
    {
     "data": {
      "image/png": "[encoded data removed]",
      "text/plain": [
       "<Figure size 720x360 with 2 Axes>"
      ]
     },
     "metadata": {
      "needs_background": "light"
     },
     "output_type": "display_data"
    }
   ],
   "source": [
    "# look into training history\n",
    "fig, ax = plt.subplots(1,2, figsize = (10,5))\n",
    "\n",
    "# summarize history for accuracy\n",
    "ax[0].plot(history.history['accuracy'])\n",
    "ax[0].plot(history.history['val_accuracy'])\n",
    "ax[0].set_ylabel('model accuracy')\n",
    "ax[0].set_xlabel('epoch')\n",
    "ax[0].legend(['train', 'test'], loc='best')\n",
    "\n",
    "# summarize history for loss\n",
    "ax[1].plot(history.history['loss'])\n",
    "ax[1].plot(history.history['val_loss'])\n",
    "ax[1].set_ylabel('model loss')\n",
    "ax[1].set_xlabel('epoch')\n",
    "ax[1].legend(['train', 'test'], loc='best')\n",
    "\n",
    "plt.show()"
   ]
  },
  {
   "cell_type": "markdown",
   "id": "ab4ca42b",
   "metadata": {},
   "source": [
    "Finally we import the input data from which we want to predict the output for the challenge, treat it the way we did with the other and then use the DNN to predict the outcome to submit. "
   ]
  },
  {
   "cell_type": "code",
   "execution_count": 10,
   "id": "802c9fbc",
   "metadata": {},
   "outputs": [],
   "source": [
    "chal_in_data_1 = pd.read_csv('https://drive.google.com/uc?id=1Zlh9JkPFc7vmudIyT0-UcloOUkP5tcY8')\n",
    "chal_in_data_2 = pd.read_csv('https://drive.google.com/uc?id=1qNDlxFtF4ZEjcEl7NWo-zMft8ifTfabP')\n",
    "chal_in_data_3 = pd.read_csv('https://drive.google.com/uc?id=1VZdfOQNI64syZd1-VkyKr0sNDeztAFEb')\n",
    "chal_in_data = pd.concat([chal_in_data_1,chal_in_data_2,chal_in_data_3],axis = 0,ignore_index = True).values\n",
    "IDs = np.arange(1e6,1e6 + chal_in_data.shape[0],dtype = int)"
   ]
  },
  {
   "cell_type": "markdown",
   "id": "a232b51a",
   "metadata": {},
   "source": [
    "Here we predict the output and create the corresponding dataframe."
   ]
  },
  {
   "cell_type": "code",
   "execution_count": 11,
   "id": "f57fe959",
   "metadata": {},
   "outputs": [
    {
     "name": "stdout",
     "output_type": "stream",
     "text": [
      "27682/27682 [==============================] - 50s 2ms/step\n"
     ]
    },
    {
     "data": {
      "text/html": [
       "<div>\n",
       "<style scoped>\n",
       "    .dataframe tbody tr th:only-of-type {\n",
       "        vertical-align: middle;\n",
       "    }\n",
       "\n",
       "    .dataframe tbody tr th {\n",
       "        vertical-align: top;\n",
       "    }\n",
       "\n",
       "    .dataframe thead th {\n",
       "        text-align: right;\n",
       "    }\n",
       "</style>\n",
       "<table border=\"1\" class=\"dataframe\">\n",
       "  <thead>\n",
       "    <tr style=\"text-align: right;\">\n",
       "      <th></th>\n",
       "      <th>ID</th>\n",
       "      <th>reod</th>\n",
       "    </tr>\n",
       "  </thead>\n",
       "  <tbody>\n",
       "    <tr>\n",
       "      <th>0</th>\n",
       "      <td>1000000</td>\n",
       "      <td>1</td>\n",
       "    </tr>\n",
       "    <tr>\n",
       "      <th>1</th>\n",
       "      <td>1000001</td>\n",
       "      <td>1</td>\n",
       "    </tr>\n",
       "    <tr>\n",
       "      <th>2</th>\n",
       "      <td>1000002</td>\n",
       "      <td>0</td>\n",
       "    </tr>\n",
       "    <tr>\n",
       "      <th>3</th>\n",
       "      <td>1000003</td>\n",
       "      <td>-1</td>\n",
       "    </tr>\n",
       "    <tr>\n",
       "      <th>4</th>\n",
       "      <td>1000004</td>\n",
       "      <td>0</td>\n",
       "    </tr>\n",
       "    <tr>\n",
       "      <th>...</th>\n",
       "      <td>...</td>\n",
       "      <td>...</td>\n",
       "    </tr>\n",
       "    <tr>\n",
       "      <th>885794</th>\n",
       "      <td>1885794</td>\n",
       "      <td>-1</td>\n",
       "    </tr>\n",
       "    <tr>\n",
       "      <th>885795</th>\n",
       "      <td>1885795</td>\n",
       "      <td>0</td>\n",
       "    </tr>\n",
       "    <tr>\n",
       "      <th>885796</th>\n",
       "      <td>1885796</td>\n",
       "      <td>0</td>\n",
       "    </tr>\n",
       "    <tr>\n",
       "      <th>885797</th>\n",
       "      <td>1885797</td>\n",
       "      <td>0</td>\n",
       "    </tr>\n",
       "    <tr>\n",
       "      <th>885798</th>\n",
       "      <td>1885798</td>\n",
       "      <td>0</td>\n",
       "    </tr>\n",
       "  </tbody>\n",
       "</table>\n",
       "<p>885799 rows × 2 columns</p>\n",
       "</div>"
      ],
      "text/plain": [
       "             ID  reod\n",
       "0       1000000     1\n",
       "1       1000001     1\n",
       "2       1000002     0\n",
       "3       1000003    -1\n",
       "4       1000004     0\n",
       "...         ...   ...\n",
       "885794  1885794    -1\n",
       "885795  1885795     0\n",
       "885796  1885796     0\n",
       "885797  1885797     0\n",
       "885798  1885798     0\n",
       "\n",
       "[885799 rows x 2 columns]"
      ]
     },
     "execution_count": 11,
     "metadata": {},
     "output_type": "execute_result"
    }
   ],
   "source": [
    "X_chal = scaler.transform(chal_in_data)\n",
    "X_chal = X_chal.reshape(X_chal.shape[0], X_chal.shape[1], 1, 1)\n",
    "Y_chal = model_CNN.predict(X_chal)\n",
    "chal_classes = np.array([[0,1,-1] for x in range(Y_chal.shape[0])])\n",
    "chal_best = np.argmax(Y_chal,axis = 1)\n",
    "chal_results= np.array([chal_classes[i,chal_best[i]] for i in range(len(chal_best))])\n",
    "chal_preds = pd.DataFrame(np.vstack([IDs,chal_results]).transpose())\n",
    "chal_preds.columns = ['ID','reod']\n",
    "chal_preds"
   ]
  },
  {
   "cell_type": "code",
   "execution_count": 12,
   "id": "c09be1e5",
   "metadata": {},
   "outputs": [],
   "source": [
    "chal_preds.to_csv('output_test.csv',index=False)"
   ]
  }
 ],
 "metadata": {
  "kernelspec": {
   "display_name": "tf-gpu",
   "language": "python",
   "name": "ex"
  },
  "language_info": {
   "codemirror_mode": {
    "name": "ipython",
    "version": 3
   },
   "file_extension": ".py",
   "mimetype": "text/x-python",
   "name": "python",
   "nbconvert_exporter": "python",
   "pygments_lexer": "ipython3",
   "version": "3.8.12"
  }
 },
 "nbformat": 4,
 "nbformat_minor": 5
}
